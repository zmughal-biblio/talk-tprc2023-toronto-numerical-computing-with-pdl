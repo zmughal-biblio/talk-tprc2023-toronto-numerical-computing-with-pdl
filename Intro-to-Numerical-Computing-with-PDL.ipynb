{
 "cells": [
  {
   "cell_type": "markdown",
   "id": "ae5cc3b8",
   "metadata": {
    "slideshow": {
     "slide_type": "slide"
    }
   },
   "source": [
    "<center>\n",
    "<h1> Introduction to Numerical Computing with the&nbsp;Perl&nbsp;Data&nbsp;Language (PDL)</h1>\n",
    "<h3>Zaki Mughal</h3>\n",
    "<h3>PAUSE: ZMUGHAL ; IRC: sivoais<h3>\n",
    "<h3>DC.pm</h3>\n",
    "<h4>The Perl and Raku Conference 2023; Toronto, CA; 2023 July 11th-13th</h4>\n",
    "</center>"
   ]
  },
  {
   "cell_type": "code",
   "execution_count": null,
   "id": "670dc2df",
   "metadata": {
    "slideshow": {
     "slide_type": "skip"
    }
   },
   "outputs": [],
   "source": [
    "use strict;\n",
    "use warnings;\n",
    "use constant IN_IPERL => !! $ENV{PERL_IPERL_RUNNING};\n",
    "no if IN_IPERL, warnings => 'redefine'; # fewer messages when re-running cells\n",
    "\n",
    "use feature qw(say postderef state);\n",
    "use Syntax::Construct qw( /r );\n",
    "use Capture::Tiny qw(capture_stdout);\n",
    "use Path::Tiny;\n",
    "\n",
    "use PDL;\n",
    "use PDL::Graphics::Gnuplot;\n",
    "IPerl->load_plugin('PDLGraphicsGnuplot');\n",
    "\n",
    "use Data::Printer ( output => 'stderr', return_value => 'void', filters => ['PDL'] );\n",
    "use Data::Printer::Filter::PDL ();\n",
    "\n",
    "sub _err { shift =~ s/^\\Q.. at reply\\E .*//xsmr }\n",
    "sub _pdldoc {\n",
    "    my @doc = @_;\n",
    "    my $output = capture_stdout { system('pdldoc', @doc) };\n",
    "    $output =~ s/\\s*Docs\\s*from.*//sr;\n",
    "}\n",
    "\n",
    "sub _info {\n",
    "    join \"\\n\", map { \"@{[$_->info]}\\n@{[ $_->string =~ s/^\\n*//mgr ]}\" } @_;\n",
    "}\n",
    "\n",
    "();"
   ]
  },
  {
   "cell_type": "markdown",
   "id": "82ed1ba8",
   "metadata": {
    "slideshow": {
     "slide_type": "slide"
    }
   },
   "source": [
    "<center><h1>What is PDL</h1><center>"
   ]
  },
  {
   "cell_type": "markdown",
   "id": "2f3d8bc6",
   "metadata": {
    "slideshow": {
     "slide_type": "fragment"
    }
   },
   "source": [
    "- A DSL and library for working with multidimensional numerical data."
   ]
  },
  {
   "cell_type": "markdown",
   "id": "38060436",
   "metadata": {
    "slideshow": {
     "slide_type": "subslide"
    }
   },
   "source": [
    "- Container data type for homogenous n-dimensional array:\n",
    "  * Packed binary data,\n",
    "  * With a list of dimensions,\n",
    "  * Of a single type;\n",
    "  * Called an **\"ndarray\"** (older docs use \"piddle\")."
   ]
  },
  {
   "cell_type": "markdown",
   "id": "cf5efd34",
   "metadata": {
    "slideshow": {
     "slide_type": "subslide"
    }
   },
   "source": [
    "- Dimensions- and type-aware functions.\n",
    "  * Code-generation DSL called PP (generates C + XS).\n",
    "  * Signatures with dimensions.\n",
    "  * Dimensions are used to perform **\"broadcasting\"** (older docs use \"threading\")"
   ]
  },
  {
   "cell_type": "markdown",
   "id": "3bdd4a9d",
   "metadata": {
    "slideshow": {
     "slide_type": "slide"
    }
   },
   "source": [
    "# Installing PDL\n",
    "\n",
    "- Several dependencies.\n",
    "- If you can, install via [package manager](https://repology.org/project/perl:pdl/versions).\n",
    "  * Debian package is reasonably up to date."
   ]
  },
  {
   "cell_type": "markdown",
   "id": "a0592ea9",
   "metadata": {
    "slideshow": {
     "slide_type": "subslide"
    }
   },
   "source": [
    "- Otherwise, you need:\n",
    "  * Required: C compiler,\n",
    "  * Optional: Fortran compiler,\n",
    "  * Optional (compute): `libgsl`, `libproj` development headers,\n",
    "  * Optional (I/O): `libgd`, `netpbm`, `libhdf4`, `libcfitsio` development headers.\n",
    "* Tip: `MAKEFLAGS=-j$(nproc) cpanm PDL`"
   ]
  },
  {
   "cell_type": "markdown",
   "id": "59aa5385",
   "metadata": {
    "slideshow": {
     "slide_type": "slide"
    }
   },
   "source": [
    "<center><h1>Let's jump right in!</h1><center>"
   ]
  },
  {
   "cell_type": "code",
   "execution_count": null,
   "id": "25c3120e",
   "metadata": {
    "slideshow": {
     "slide_type": "slide"
    }
   },
   "outputs": [],
   "source": [
    "use PDL;\n",
    "\n",
    "my $p = pdl(1);\n",
    "my $q = pdl(2);\n",
    "my $r = $p + $q;\n",
    "say $r; ();"
   ]
  },
  {
   "cell_type": "code",
   "execution_count": null,
   "id": "0582c162",
   "metadata": {
    "slideshow": {
     "slide_type": "fragment"
    }
   },
   "outputs": [],
   "source": [
    "say 'Number of dims: ', $p->ndims;\n",
    "\n",
    "# as Perl list\n",
    "say 'Dims list:      ', join(' ', '(', $p->dims, ')');\n",
    "\n",
    "# as another ndarray\n",
    "say 'Shape:          ', $p->shape;\n",
    "();"
   ]
  },
  {
   "cell_type": "code",
   "execution_count": null,
   "id": "b4a9ea8b",
   "metadata": {
    "scrolled": true,
    "slideshow": {
     "slide_type": "subslide"
    }
   },
   "outputs": [],
   "source": [
    "say $p->info; ();"
   ]
  },
  {
   "cell_type": "code",
   "execution_count": null,
   "id": "3702a933",
   "metadata": {
    "slideshow": {
     "slide_type": "fragment"
    }
   },
   "outputs": [],
   "source": [
    "say $p->type;\n",
    "say PDL::Core::howbig($p->type); ();"
   ]
  },
  {
   "cell_type": "markdown",
   "id": "0c634f9c",
   "metadata": {
    "slideshow": {
     "slide_type": "slide"
    }
   },
   "source": [
    "<center><h1>More data</h1></center>"
   ]
  },
  {
   "cell_type": "code",
   "execution_count": null,
   "id": "9ae8f203",
   "metadata": {
    "slideshow": {
     "slide_type": "subslide"
    }
   },
   "outputs": [],
   "source": [
    "$p = pdl(1,2);\n",
    "$q = pdl(3,4);\n",
    "\n",
    "say $p->info; say $p;\n",
    "say $q->info; say $q;\n",
    "\n",
    "$p + $q;"
   ]
  },
  {
   "cell_type": "code",
   "execution_count": null,
   "id": "c75d1735",
   "metadata": {
    "slideshow": {
     "slide_type": "subslide"
    }
   },
   "outputs": [],
   "source": [
    "$p = pdl(1,2);\n",
    "$q = pdl(3,4,5);\n",
    "\n",
    "say _info($p, $q); ();"
   ]
  },
  {
   "cell_type": "code",
   "execution_count": null,
   "id": "b584c005",
   "metadata": {
    "slideshow": {
     "slide_type": "subslide"
    }
   },
   "outputs": [],
   "source": [
    "# YOW!\n",
    "$r = eval { $p + $q; }; say _err($@); ();"
   ]
  },
  {
   "cell_type": "code",
   "execution_count": null,
   "id": "9c60888c",
   "metadata": {
    "slideshow": {
     "slide_type": "subslide"
    }
   },
   "outputs": [],
   "source": [
    "# $ pdldoc plus\n",
    "_pdldoc('plus');"
   ]
  },
  {
   "cell_type": "code",
   "execution_count": null,
   "id": "674bf2e1",
   "metadata": {
    "slideshow": {
     "slide_type": "subslide"
    }
   },
   "outputs": [],
   "source": [
    "_pdldoc(qw(-s plus));"
   ]
  },
  {
   "cell_type": "markdown",
   "id": "edb49492",
   "metadata": {
    "slideshow": {
     "slide_type": "fragment"
    }
   },
   "source": [
    "- `a()`: input, empty dims,\n",
    "- `b()`: input, empty dims,\n",
    "- `[o]c()`: output, empty dims."
   ]
  },
  {
   "cell_type": "markdown",
   "id": "ea153178",
   "metadata": {
    "slideshow": {
     "slide_type": "fragment"
    }
   },
   "source": [
    "Thus the `plus` fuction signature indicates it works *element-wise*."
   ]
  },
  {
   "cell_type": "code",
   "execution_count": null,
   "id": "70870df3",
   "metadata": {
    "slideshow": {
     "slide_type": "subslide"
    }
   },
   "outputs": [],
   "source": [
    "say _pdldoc('PDL::Ops'); ();"
   ]
  },
  {
   "cell_type": "code",
   "execution_count": null,
   "id": "8f6dfd17",
   "metadata": {
    "slideshow": {
     "slide_type": "slide"
    }
   },
   "outputs": [],
   "source": [
    "### Match dimensions\n",
    "$p = pdl(1,2);\n",
    "$q = pdl([ [3],[4],[5] ]);\n",
    "# $q = transpose( pdl([  3,  4,  5  ]) );\n",
    "\n",
    "say _info( $p, $q  ); ();\n",
    "say '$q(0,1): ', $q->at(0,1), \"\\n\"; # extract single element as Perl scalar by indices\n",
    "\n",
    "say _info(\n",
    "\n",
    "    $p + $q\n",
    "\n",
    "); ();"
   ]
  },
  {
   "cell_type": "code",
   "execution_count": null,
   "id": "429c151d",
   "metadata": {
    "scrolled": true,
    "slideshow": {
     "slide_type": "subslide"
    }
   },
   "outputs": [],
   "source": [
    "$p = pdl(1,2);\n",
    "$q = pdl(   3 , 4 , 5 )->dummy(0); # add dummy of size 1 at position 0\n",
    "\n",
    "say _info( $p, $q  );\n",
    "\n",
    "$r = $p + $q;"
   ]
  },
  {
   "cell_type": "code",
   "execution_count": null,
   "id": "0807e2f1",
   "metadata": {
    "scrolled": true,
    "slideshow": {
     "slide_type": "subslide"
    }
   },
   "outputs": [],
   "source": [
    "say pdl(1..3)->dummy(1024)->ndims; (); # add dummies of size 1 at position 1-1024"
   ]
  },
  {
   "cell_type": "code",
   "execution_count": null,
   "id": "cc5c4cc9",
   "metadata": {
    "slideshow": {
     "slide_type": "subslide"
    }
   },
   "outputs": [],
   "source": [
    "my $even_mask = $r % 2 == 0;\n",
    "\n",
    "say $even_mask;\n",
    "\n",
    "say 'any: ', any( $even_mask );\n",
    "say 'all: ', all( $even_mask ); ();"
   ]
  },
  {
   "cell_type": "code",
   "execution_count": null,
   "id": "e7592048",
   "metadata": {
    "slideshow": {
     "slide_type": "fragment"
    }
   },
   "outputs": [],
   "source": [
    "which( $even_mask ) if any( $even_mask );"
   ]
  },
  {
   "cell_type": "code",
   "execution_count": null,
   "id": "1c3df226",
   "metadata": {
    "slideshow": {
     "slide_type": "fragment"
    }
   },
   "outputs": [],
   "source": [
    "sequence($r); #->flat;"
   ]
  },
  {
   "cell_type": "code",
   "execution_count": null,
   "id": "255499fa",
   "metadata": {
    "scrolled": true,
    "slideshow": {
     "slide_type": "subslide"
    }
   },
   "outputs": [],
   "source": [
    "$r->where( $r % 2 == 0 );"
   ]
  },
  {
   "cell_type": "code",
   "execution_count": null,
   "id": "fccd359b",
   "metadata": {
    "slideshow": {
     "slide_type": "fragment"
    }
   },
   "outputs": [],
   "source": [
    "$r->where( $r % 2 == 0 ) .= 42;\n",
    "$r;"
   ]
  },
  {
   "cell_type": "code",
   "execution_count": null,
   "id": "c4bdce64",
   "metadata": {
    "scrolled": true,
    "slideshow": {
     "slide_type": "fragment"
    }
   },
   "outputs": [],
   "source": [
    "$r->where( $r % 2 == 3 );"
   ]
  },
  {
   "cell_type": "code",
   "execution_count": null,
   "id": "6e9b42a2",
   "metadata": {
    "scrolled": true,
    "slideshow": {
     "slide_type": "subslide"
    }
   },
   "outputs": [],
   "source": [
    "$r = zeroes(3,3,3);\n",
    "# ones($r);\n",
    "# sequence($r);\n",
    "# xvals($r);\n",
    "# yvals($r);\n",
    "# zvals($r);\n",
    "# rvals($r);\n",
    "# random($r);"
   ]
  },
  {
   "cell_type": "code",
   "execution_count": null,
   "id": "17239b2c",
   "metadata": {
    "slideshow": {
     "slide_type": "subslide"
    }
   },
   "outputs": [],
   "source": [
    "my $p = zeroes(9,9);\n",
    "# my $x = $p->xlinvals(0, 1);\n",
    "# my $y = $p->ylinvals(-0.5, 0.5);\n",
    "\n",
    "# my $z = $x**2 + $x * $y;"
   ]
  },
  {
   "cell_type": "code",
   "execution_count": null,
   "id": "4a411f38",
   "metadata": {
    "slideshow": {
     "slide_type": "subslide"
    }
   },
   "outputs": [],
   "source": [
    "identity(3);\n",
    "# stretcher(pdl( [3,2,1] ) );"
   ]
  },
  {
   "cell_type": "markdown",
   "id": "76a44c85",
   "metadata": {
    "slideshow": {
     "slide_type": "slide"
    }
   },
   "source": [
    "<center><h1>Slicing and Dicing</h1></center>"
   ]
  },
  {
   "cell_type": "code",
   "execution_count": null,
   "id": "bd6a509d",
   "metadata": {
    "scrolled": true,
    "slideshow": {
     "slide_type": "slide"
    }
   },
   "outputs": [],
   "source": [
    "use Data::TestImage;\n",
    "use PDL::IO::Pic;\n",
    "my $mandrill = rim( Data::TestImage->get_image('mandrill') . '');\n",
    "\n",
    "say _info($mandrill); ();"
   ]
  },
  {
   "cell_type": "code",
   "execution_count": null,
   "id": "8e64b84c",
   "metadata": {
    "slideshow": {
     "slide_type": "subslide"
    }
   },
   "outputs": [],
   "source": [
    "say _pdldoc('rim'); ();"
   ]
  },
  {
   "cell_type": "code",
   "execution_count": null,
   "id": "cf9b2a4b",
   "metadata": {
    "slideshow": {
     "slide_type": "subslide"
    }
   },
   "outputs": [],
   "source": [
    "use PDL::Graphics::Gnuplot;\n",
    "\n",
    "my $gp = gpwin();\n",
    "$gp->image( $mandrill, { square => 1 } );\n",
    "$gp;"
   ]
  },
  {
   "cell_type": "code",
   "execution_count": null,
   "id": "27769f85",
   "metadata": {
    "slideshow": {
     "slide_type": "subslide"
    }
   },
   "outputs": [],
   "source": [
    "$gp->image( $mandrill->slice('0:255,0:255'), { square => 1 } );\n",
    "$gp;"
   ]
  },
  {
   "cell_type": "code",
   "execution_count": null,
   "id": "15e672e7",
   "metadata": {
    "scrolled": false,
    "slideshow": {
     "slide_type": "subslide"
    }
   },
   "outputs": [],
   "source": [
    "my $mandrill_TL_gfx = $mandrill->slice('0:255,-256:-1');\n",
    "say $mandrill_TL_gfx->info;\n",
    "\n",
    "$gp->image( $mandrill_TL_gfx, { square => 1 } );\n",
    "$gp;"
   ]
  },
  {
   "cell_type": "code",
   "execution_count": null,
   "id": "005b49a9",
   "metadata": {
    "slideshow": {
     "slide_type": "slide"
    }
   },
   "outputs": [],
   "source": [
    "my $mandrill_rgb_split = $mandrill * identity(3,3)->slice('*,*');\n",
    "say $mandrill_rgb_split->info;\n",
    "\n",
    "say $mandrill_rgb_split->clump(0..1)->sumover; ();"
   ]
  },
  {
   "cell_type": "code",
   "execution_count": null,
   "id": "098258e3",
   "metadata": {
    "slideshow": {
     "slide_type": "skip"
    }
   },
   "outputs": [],
   "source": [
    "$Devel::IPerl::Plugin::PDLGraphicsGnuplot::IPerl_compat = 0;"
   ]
  },
  {
   "cell_type": "code",
   "execution_count": null,
   "id": "8b49e4ae",
   "metadata": {
    "slideshow": {
     "slide_type": "subslide"
    }
   },
   "outputs": [],
   "source": [
    "$gp = gpwin( \"png\", output => 'mandrill-mp.png' );\n",
    "$gp->multiplot( layout => [3,1] );\n",
    "$gp->plot( with => 'image', $mandrill_rgb_split->slice(',,,(0)'), { square => 1 });\n",
    "$gp->plot( with => 'image', $mandrill_rgb_split->slice(',,,(1)'), { square => 1 });\n",
    "$gp->plot( with => 'image', $mandrill_rgb_split->slice(',,,(2)'), { square => 1 });\n",
    "$gp->end_multi;\n",
    "$gp->close;\n",
    "\n",
    "IPerl->png( path('mandrill-mp.png')->slurp_raw );"
   ]
  },
  {
   "cell_type": "code",
   "execution_count": null,
   "id": "e27730d0",
   "metadata": {
    "slideshow": {
     "slide_type": "subslide"
    }
   },
   "outputs": [],
   "source": [
    "$gp = gpwin( \"png\", output => 'mandrill-mp-dog.png' );\n",
    "$gp->multiplot( layout => [3,1] );\n",
    "$gp->plot( with => 'image', $_, { square => 1 }) for dog($mandrill_rgb_split);\n",
    "$gp->end_multi;\n",
    "$gp->close;\n",
    "\n",
    "IPerl->png( path('mandrill-mp-dog.png')->slurp_raw );"
   ]
  },
  {
   "cell_type": "code",
   "execution_count": null,
   "id": "f5bdee2d",
   "metadata": {
    "slideshow": {
     "slide_type": "skip"
    }
   },
   "outputs": [],
   "source": [
    "$Devel::IPerl::Plugin::PDLGraphicsGnuplot::IPerl_compat = 1;"
   ]
  },
  {
   "cell_type": "code",
   "execution_count": null,
   "id": "af2303c0",
   "metadata": {
    "slideshow": {
     "slide_type": "subslide"
    }
   },
   "outputs": [],
   "source": [
    "$gp = gpwin();\n",
    "my $mandrill_mv_dims = $mandrill_rgb_split->mv(-1,1);\n",
    "say $mandrill_mv_dims->info;\n",
    "\n",
    "# my $mandrill_panel = $mandrill_mv_dims->reshape(512*3,512,3);\n",
    "my $mandrill_panel = $mandrill_mv_dims->clump(2);\n",
    "\n",
    "say $mandrill_panel->info;\n",
    "\n",
    "$gp->image( $mandrill_panel, { square => 1 } );\n",
    "\n",
    "$gp;"
   ]
  },
  {
   "cell_type": "code",
   "execution_count": null,
   "id": "bc4f7174",
   "metadata": {
    "slideshow": {
     "slide_type": "subslide"
    }
   },
   "outputs": [],
   "source": [
    "$gp = gpwin();\n",
    "\n",
    "my $mandrill_panel = $mandrill_rgb_split->mv(-1,2)->clump(1..2);\n",
    "# ->mv(-1,1)\n",
    "\n",
    "say $mandrill_panel->info;\n",
    "\n",
    "$gp->image( $mandrill_panel, { square => 1 } );\n",
    "\n",
    "# say $mandrill_panel->slice(':,0:4,:')->avgover;\n",
    "\n",
    "$gp;"
   ]
  },
  {
   "cell_type": "code",
   "execution_count": null,
   "id": "446c10db",
   "metadata": {
    "slideshow": {
     "slide_type": "slide"
    }
   },
   "outputs": [],
   "source": [
    "$gp = gpwin();\n",
    "my @range = (0,255); my $steps = 16;\n",
    "my ($hist_x, $hist_count) = hist( $mandrill->slice(',,0'), @range, $steps );\n",
    "\n",
    "$gp->plot( with => 'steps', $hist_x, $hist_count, { xrange => \\@range } );\n",
    "\n",
    "say cat($hist_x, $hist_count);\n",
    "\n",
    "$gp;"
   ]
  },
  {
   "cell_type": "code",
   "execution_count": null,
   "id": "70ae0458",
   "metadata": {
    "slideshow": {
     "slide_type": "subslide"
    }
   },
   "outputs": [],
   "source": [
    "my $threshold = 225;\n",
    "\n",
    "$gp->options( arrow1 => [\n",
    "    at => \"$threshold, graph 0\",\n",
    "    to => \"$threshold, graph 1\",\n",
    "    'nohead lc \"red\" dt 2' ]);\n",
    "\n",
    "$gp->replot;\n",
    "\n",
    "$gp;"
   ]
  },
  {
   "cell_type": "code",
   "execution_count": null,
   "id": "ed56fe0c",
   "metadata": {
    "scrolled": false,
    "slideshow": {
     "slide_type": "subslide"
    }
   },
   "outputs": [],
   "source": [
    "my $mandrill_thresh = $mandrill->copy;\n",
    "$mandrill_thresh->where( $mandrill_thresh->slice(',,0') <= $threshold ) .= 0;\n",
    "\n",
    "$gp = gpwin();\n",
    "$gp->image(\n",
    "    $mandrill->glue(0,\n",
    "        zeroes(10),\n",
    "        $mandrill_thresh),\n",
    "    { justify => 1 } );\n",
    "$gp;"
   ]
  },
  {
   "cell_type": "markdown",
   "id": "b78dedc2",
   "metadata": {
    "slideshow": {
     "slide_type": "slide"
    }
   },
   "source": [
    "# Special functions"
   ]
  },
  {
   "cell_type": "code",
   "execution_count": null,
   "id": "a9393785",
   "metadata": {
    "slideshow": {
     "slide_type": "subslide"
    }
   },
   "outputs": [],
   "source": [
    "use PDL::Constants qw(PI);\n",
    "use PDL::GSL::CDF;\n",
    "use PDL::GSL::INTEG;"
   ]
  },
  {
   "cell_type": "code",
   "execution_count": null,
   "id": "8addc94f",
   "metadata": {
    "scrolled": true,
    "slideshow": {
     "slide_type": "subslide"
    }
   },
   "outputs": [],
   "source": [
    "my $xvals = zeroes(256)->xlinvals(-4,4);\n",
    "my $sd    = 1+sequence(3)->dummy(0);\n",
    "$gp = gpwin( enhanced => 1 );\n",
    "$gp->option( key => 'reverse Left left font \",16\"' );\n",
    "$gp->plot(\n",
    "    legend => [ map { \"{/Symbol s} = $_\" } $sd->flat->unpdl->@* ],\n",
    "    $xvals, gsl_cdf_gaussian_P( $xvals, $sd ) );\n",
    "$gp;"
   ]
  },
  {
   "cell_type": "code",
   "execution_count": null,
   "id": "b1cea9cd",
   "metadata": {
    "slideshow": {
     "slide_type": "subslide"
    }
   },
   "outputs": [],
   "source": [
    "sub gauss_pdf {\n",
    "  my ($x) = @_;\n",
    "  state $constant = 1 / sqrt(2*PI);\n",
    "  return $constant * exp(- $x**2 / 2);\n",
    "}\n",
    "\n",
    "my ($cdf_integ) = gslinteg_qagil( \\&gauss_pdf, $xvals , 1e-16, 0, 1000);\n",
    "my $cdf_direct = gsl_cdf_gaussian_P( $xvals, 1 );\n",
    "$gp = gpwin( enhanced => 1 );\n",
    "$gp->option( key => 'reverse Left left font \",16\"' );\n",
    "$gp->plot(\n",
    "    legend => \"{/Symbol s} = 1 (direct)\",\n",
    "        $xvals, $cdf_direct,\n",
    "    legend => \"{/Symbol s} = 1 (integration)\",\n",
    "        $xvals, $cdf_integ + 0.1,\n",
    ");\n",
    "IPerl->display($gp);\n",
    "\n",
    "say join \" \", minmax(abs($cdf_integ - $cdf_direct));"
   ]
  },
  {
   "cell_type": "markdown",
   "id": "ee38b746",
   "metadata": {
    "slideshow": {
     "slide_type": "slide"
    }
   },
   "source": [
    "# PDL::Stats"
   ]
  },
  {
   "cell_type": "code",
   "execution_count": null,
   "id": "afb32a6e",
   "metadata": {
    "scrolled": true,
    "slideshow": {
     "slide_type": "subslide"
    }
   },
   "outputs": [],
   "source": [
    "use Data::Frame::Examples qw(iris);\n",
    "\n",
    "my $iris_data = iris;"
   ]
  },
  {
   "cell_type": "code",
   "execution_count": null,
   "id": "53f631d6",
   "metadata": {
    "slideshow": {
     "slide_type": "subslide"
    }
   },
   "outputs": [],
   "source": [
    "my $iris_labels = $iris_data->column('Species')->{PDL}; # using non-public API here, do not use!\n",
    "\n",
    "my $iris_numeric = cat(map $iris_data->nth_column($_), 0..3);\n",
    "$iris_numeric->info;"
   ]
  },
  {
   "cell_type": "code",
   "execution_count": null,
   "id": "31568a44",
   "metadata": {
    "scrolled": true,
    "slideshow": {
     "slide_type": "subslide"
    }
   },
   "outputs": [],
   "source": [
    "use PDL::Stats::GLM;\n",
    "\n",
    "my %pca = pca($iris_numeric);\n",
    "p %pca;\n",
    "\n",
    "# Alternative: LAPACK SVD from PDL::LinearAlgebra"
   ]
  },
  {
   "cell_type": "code",
   "execution_count": null,
   "id": "d20d0ac7",
   "metadata": {
    "slideshow": {
     "slide_type": "subslide"
    }
   },
   "outputs": [],
   "source": [
    "$gp = gpwin();\n",
    "my $pc_idx = sequence($pca{pct_var}->dim(0));\n",
    "$gp->plot(\n",
    "    title => 'Percent variance for PC n',\n",
    "    boxwidth => 0.5, xtics => { out => 1, locations => [$pc_idx->min,1,$pc_idx->max] },\n",
    "    with => 'boxes', fs => 'solid', $pc_idx, $pca{pct_var} );\n",
    "$gp;"
   ]
  },
  {
   "cell_type": "code",
   "execution_count": null,
   "id": "f351ba23",
   "metadata": {
    "scrolled": true,
    "slideshow": {
     "slide_type": "subslide"
    }
   },
   "outputs": [],
   "source": [
    "my $comps = [0,1];\n",
    "my $z = $iris_numeric->stddz;\n",
    "\n",
    "# transformed normed values\n",
    "my $scores = sumover($pca{eigenvector}->slice([], $comps) * $z->transpose->dummy(1))->transpose;\n",
    "$z = $z->slice([], $comps)->sever;\n",
    "$gp = gpwin(); $gp->option( justify => 1, key => 'reverse Left left font \",16\" outside' );\n",
    "$gp->plot( xlabel => 'PC1', ylabel => 'PC2',\n",
    "        map {\n",
    "            my $label = $_;\n",
    "            my $subset = $scores->slice(which($iris_labels == $label), []);\n",
    "            ( with => 'points',\n",
    "                legend => [$iris_data->column('Species')->levels->[$label]],\n",
    "                $subset->slice(',0'), $subset->slice(',1') )\n",
    "\n",
    "        } $iris_labels->uniq->list\n",
    ");\n",
    "$gp;"
   ]
  },
  {
   "cell_type": "code",
   "execution_count": 87,
   "id": "28e9973e",
   "metadata": {
    "slideshow": {
     "slide_type": "skip"
    }
   },
   "outputs": [],
   "source": [
    "=pod\n",
    "\n",
    "use PDL::Demos::Sound;\n",
    "use List::Util qw(mesh);\n",
    "my @row_tones = (697, 770, 852, 941);\n",
    "my @col_tones = (1209, 1336, 1477);\n",
    "\n",
    "my @keypad = ( qw(\n",
    "    1 2     3\n",
    "    4 5     6\n",
    "    7 8     9\n",
    "    * 0 ), '#' );\n",
    "my %keypad = mesh(\\@keypad, [0..$#keypad]);\n",
    "\n",
    "open (my $pipe, '|-', $PDL::Demos::Sound::player, @$PDL::Demos::Sound::player_args)\n",
    "    or die \"Can not start a sound player.  Demo failed.\\n\";\n",
    "binmode $pipe;\n",
    "my $n         = 4000;\n",
    "my $samples   = sequence $n;\n",
    "my $raw_sound = byte(zeroes($n));\n",
    "my $amplitude = 80;\n",
    "for my $key ('1', '2', '3', '4') {\n",
    "    my $key_idx = $keypad{$key};\n",
    "    my $r = $row_tones[ $key_idx / 3 ];\n",
    "    my $c = $col_tones[ $key_idx % 3 ];\n",
    "    $raw_sound = byte($amplitude*(1\n",
    "        + sin($samples*$r*2*PI/$n)\n",
    "        + sin($samples*$c*2*PI/$n)\n",
    "    ));\n",
    "    print $pipe ${$raw_sound->get_dataref};\n",
    "}\n",
    "close $pipe;\n",
    "\n",
    "=cut"
   ]
  },
  {
   "cell_type": "code",
   "execution_count": null,
   "id": "b4978ef6",
   "metadata": {
    "slideshow": {
     "slide_type": "slide"
    }
   },
   "outputs": [],
   "source": [
    "system('echo \"demo opencv\" | perldl 2>/dev/null >&2'); # from PDL::OpenCV"
   ]
  },
  {
   "cell_type": "markdown",
   "id": "db4c5a3c",
   "metadata": {
    "slideshow": {
     "slide_type": "slide"
    }
   },
   "source": [
    "# More features\n",
    "\n",
    "- <https://metacpan.org/pod/PDL::ParallelCPU>\n",
    "- <https://metacpan.org/pod/PDL::Dataflow>\n",
    "- <https://metacpan.org/pod/PDL::BadValues>\n",
    "- <https://metacpan.org/pod/PDL::Demos>"
   ]
  },
  {
   "cell_type": "markdown",
   "id": "6bdbadde",
   "metadata": {
    "slideshow": {
     "slide_type": "slide"
    }
   },
   "source": [
    "# More talks/videos\n",
    "\n",
    "- [David Mertens - Introduction to the Perl Data Language](https://www.youtube.com/watch?v=rf1yfZ2yUFo)\n",
    "- [Maggie Xiong - Statistics and data mining with Perl Data Language](https://www.youtube.com/watch?v=DFX_cNB97yQ)\n",
    "- [David Mertens - Interactive Data Analysis with Prima and PDL](https://www.youtube.com/watch?v=IE-vnnRWiOg)\n",
    "- [PDL::Graphics::Gnuplot Tutorial](https://www.youtube.com/watch?v=hUXDQL3rZ_0)\n",
    "- [Carey Witkov - Higgs meets Perl](https://www.youtube.com/watch?v=I7OMJKguseo)\n",
    "\n",
    "And for another second dose of this kind of thing, head over to [Introduction to TensorFlow in Perl](https://tprc2023.sched.com/event/1LhoZ/introduction-to-tensorflow-in-perl) at this conference."
   ]
  },
  {
   "cell_type": "markdown",
   "id": "27bbc0bd",
   "metadata": {
    "slideshow": {
     "slide_type": "slide"
    }
   },
   "source": [
    "# Community\n",
    "\n",
    "- PDL mailing list (<https://sourceforge.net/p/pdl/mailman/>) and IRC (`#pdl` on MagNET irc.perl.org)\n",
    "- Downstream PDL libraries: <https://github.com/PDLPorters/devops/blob/master/data/project.yml>\n",
    "- Use it, submit bugs and feature requests."
   ]
  }
 ],
 "metadata": {
  "celltoolbar": "Slideshow",
  "kernelspec": {
   "display_name": "IPerl 0.012",
   "language": "perl",
   "name": "iperl"
  },
  "language_info": {
   "file_extension": ".pl",
   "mimetype": "text/x-perl",
   "name": "perl",
   "version": "5.26.1"
  }
 },
 "nbformat": 4,
 "nbformat_minor": 5
}
